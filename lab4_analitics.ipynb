{
  "nbformat": 4,
  "nbformat_minor": 0,
  "metadata": {
    "colab": {
      "provenance": [],
      "include_colab_link": true
    },
    "kernelspec": {
      "name": "python3",
      "display_name": "Python 3"
    },
    "language_info": {
      "name": "python"
    }
  },
  "cells": [
    {
      "cell_type": "markdown",
      "metadata": {
        "id": "view-in-github",
        "colab_type": "text"
      },
      "source": [
        "<a href=\"https://colab.research.google.com/github/SiropTime/lab_app_prog4/blob/data/lab4_analitics.ipynb\" target=\"_parent\"><img src=\"https://colab.research.google.com/assets/colab-badge.svg\" alt=\"Open In Colab\"/></a>"
      ]
    },
    {
      "cell_type": "markdown",
      "source": [
        "1. Большинство заказов в такси делают с андроида \n",
        "2. Большинство отказов заказа делают пользователи с айфоном \n",
        "3. Большинство отказов заказа делают водители с криентами, которые бронировали с сайтов \n",
        "4. Оценка поездки у владльцев айфона выше, чем у андроиа \n"
      ],
      "metadata": {
        "id": "RLa4xe6RpEhK"
      }
    },
    {
      "cell_type": "markdown",
      "source": [
        "# Работа с файлом"
      ],
      "metadata": {
        "id": "CErcn7ef0M5Q"
      }
    },
    {
      "cell_type": "code",
      "execution_count": 1,
      "metadata": {
        "id": "LJvv4nefnSp5"
      },
      "outputs": [],
      "source": [
        "import pandas as pd\n",
        "import seaborn as sns\n",
        "taxi = pd.read_csv('https://stepik.org/media/attachments/lesson/359240/taxi_peru.csv', sep=';', parse_dates=['start_at', 'end_at','arrived_at'])"
      ]
    },
    {
      "cell_type": "code",
      "source": [
        "taxi.head(10)"
      ],
      "metadata": {
        "colab": {
          "base_uri": "https://localhost:8080/",
          "height": 774
        },
        "id": "xXLLWk-NnaVe",
        "outputId": "69b06a75-cac3-44fa-a0c1-813ed6f6815b"
      },
      "execution_count": 2,
      "outputs": [
        {
          "output_type": "execute_result",
          "data": {
            "text/plain": [
              "                         journey_id                           user_id  \\\n",
              "0  23a1406fc6a11d866e3c82f22eed4d4c  0e9af5bbf1edfe591b54ecdfd7e91e26   \n",
              "1  dd2af4715d0dc16eded53afc0e243577  a553c46e3a22fb9c326aeb3d72b3334e   \n",
              "2  dd91e131888064bf7df3ce08f3d4b4ad  a553c46e3a22fb9c326aeb3d72b3334e   \n",
              "3  dd2af4715d0dc16eded53afc0e2466d0  a553c46e3a22fb9c326aeb3d72b3334e   \n",
              "4  85b7eabcf5d84e42dc7629b7d27781af  56772d544fdfa589a020a1ff894a86f7   \n",
              "5  2254715f0f569e3173ec61f16cbb8341  56772d544fdfa589a020a1ff894a86f7   \n",
              "6  12432d83b49393bf25164673212b8295  56772d544fdfa589a020a1ff894a86f7   \n",
              "7  2e51db3a8a77aa594aa686ff19fe6036  56772d544fdfa589a020a1ff894a86f7   \n",
              "8  0234eb5f7e99d581c72052f0a868289c  0234eb5f7e99d581c72052f0a869293a   \n",
              "9  9448070ece760ea5386e5d4822121a6c  dd23cf0ef33ae44e0c0b4c756e1fe4e8   \n",
              "\n",
              "                          driver_id                           taxi_id  \\\n",
              "0  583949a89a9ee17d19e3ca4f137b6b4c  b12f4f09c783e29fe0d0ea624530db56   \n",
              "1                               NaN                               NaN   \n",
              "2                               NaN                               NaN   \n",
              "3                               NaN                               NaN   \n",
              "4  d665fb9f75ef5d9cd0fd89479380ba78  0accdd3aa5a322f4129fa20b53278c69   \n",
              "5  baacf396f773709519bbde35a5eab861  baacf396f773709519bbde35a585d91b   \n",
              "6  e1332f68e81526e498e4d845233a6d7d  e1332f68e81526e498e4d845235baf80   \n",
              "7  d665fb9f75ef5d9cd0fd89479380ba78  0accdd3aa5a322f4129fa20b53278c69   \n",
              "8  d04f1a596fe4a582f48e6eb2f9e8f617  d04f1a596fe4a582f48e6eb2f9e8cceb   \n",
              "9  406921adcca37705ef527b4246c0cfea  406921adcca37705ef527b4246c10d2c   \n",
              "\n",
              "        icon start_type            start_at     start_lat     start_lon  \\\n",
              "0  executive       asap 2010-11-16 16:44:00  -12,13983536  -77,02355957   \n",
              "1  executive       asap 2010-06-01 00:34:00  -12,13874817  -76,99536133   \n",
              "2  executive       asap 2010-05-31 05:01:00  -12,12453079  -77,02780151   \n",
              "3  executive       asap 2010-06-01 00:29:00  -12,13885117  -76,99530029   \n",
              "4  executive   reserved 2010-09-11 23:55:00  -12,08995438  -76,92626953   \n",
              "5  executive   reserved 2010-08-10 13:00:00  -12,02241898  -77,10650635   \n",
              "6  executive   reserved 2010-08-08 12:10:00  -12,08995819   -76,9262085   \n",
              "7  executive       asap 2010-05-16 03:58:00  -12,11347198  -77,04385376   \n",
              "8  executive       asap 2010-07-09 05:56:00  -12,11068311  -77,00212106   \n",
              "9  executive       asap 2010-11-22 23:42:00  -12,08969627  -77,03574926   \n",
              "\n",
              "               end_at       end_lat       end_lon  end_state driver_start_lat  \\\n",
              "0 2010-11-16 17:29:00  -12,05537033   -77,0413208   drop off     -12,10825481   \n",
              "1 2010-06-01 00:37:00  -12,12465668  -77,02886963  not found              NaN   \n",
              "2 2010-05-31 05:04:00  -12,13883209  -76,99530029  not found              NaN   \n",
              "3 2010-06-01 00:32:00  -12,12458801  -77,02896118  not found              NaN   \n",
              "4 2010-09-12 01:07:00  -12,02223206  -77,10638428   drop off     -12,08311558   \n",
              "5 2010-08-10 14:26:00  -12,08980179  -76,92608643   drop off     -12,01706754   \n",
              "6 2010-08-08 12:48:00  -12,02152252  -77,10623169   drop off     -12,08509125   \n",
              "7 2010-05-16 04:40:00  -12,09108734  -76,92266846   drop off     -12,10828994   \n",
              "8 2010-07-09 06:37:00  -12,07299558  -77,09785346   drop off     -12,12584246   \n",
              "9 2010-11-23 00:53:00  -12,03449872  -77,03020982   drop off      -12,0898203   \n",
              "\n",
              "  driver_start_lon          arrived_at   source  driver_score  rider_score  \n",
              "0      -77,0272739 2010-11-16 17:02:00   iPhone           5.0          5.0  \n",
              "1              NaN                 NaT   iPhone           NaN          NaN  \n",
              "2              NaN                 NaT   iPhone           NaN          NaN  \n",
              "3              NaN                 NaT   iPhone           NaN          NaN  \n",
              "4      -76,9277072 2010-09-11 23:50:00   iPhone           4.0          5.0  \n",
              "5     -77,05986526 2010-08-10 12:53:00   iPhone           NaN          4.0  \n",
              "6     -76,96944424 2010-08-08 12:01:00   iPhone           5.0          5.0  \n",
              "7     -77,03530221 2010-05-16 04:06:00   iPhone           5.0          5.0  \n",
              "8     -77,03298835 2010-07-09 06:13:00  Android           0.0          4.0  \n",
              "9      -77,0358663 2010-11-23 00:05:00  Android           5.0          5.0  "
            ],
            "text/html": [
              "\n",
              "  <div id=\"df-e97663bc-c2b2-4c57-9c31-548a22e2618f\">\n",
              "    <div class=\"colab-df-container\">\n",
              "      <div>\n",
              "<style scoped>\n",
              "    .dataframe tbody tr th:only-of-type {\n",
              "        vertical-align: middle;\n",
              "    }\n",
              "\n",
              "    .dataframe tbody tr th {\n",
              "        vertical-align: top;\n",
              "    }\n",
              "\n",
              "    .dataframe thead th {\n",
              "        text-align: right;\n",
              "    }\n",
              "</style>\n",
              "<table border=\"1\" class=\"dataframe\">\n",
              "  <thead>\n",
              "    <tr style=\"text-align: right;\">\n",
              "      <th></th>\n",
              "      <th>journey_id</th>\n",
              "      <th>user_id</th>\n",
              "      <th>driver_id</th>\n",
              "      <th>taxi_id</th>\n",
              "      <th>icon</th>\n",
              "      <th>start_type</th>\n",
              "      <th>start_at</th>\n",
              "      <th>start_lat</th>\n",
              "      <th>start_lon</th>\n",
              "      <th>end_at</th>\n",
              "      <th>end_lat</th>\n",
              "      <th>end_lon</th>\n",
              "      <th>end_state</th>\n",
              "      <th>driver_start_lat</th>\n",
              "      <th>driver_start_lon</th>\n",
              "      <th>arrived_at</th>\n",
              "      <th>source</th>\n",
              "      <th>driver_score</th>\n",
              "      <th>rider_score</th>\n",
              "    </tr>\n",
              "  </thead>\n",
              "  <tbody>\n",
              "    <tr>\n",
              "      <th>0</th>\n",
              "      <td>23a1406fc6a11d866e3c82f22eed4d4c</td>\n",
              "      <td>0e9af5bbf1edfe591b54ecdfd7e91e26</td>\n",
              "      <td>583949a89a9ee17d19e3ca4f137b6b4c</td>\n",
              "      <td>b12f4f09c783e29fe0d0ea624530db56</td>\n",
              "      <td>executive</td>\n",
              "      <td>asap</td>\n",
              "      <td>2010-11-16 16:44:00</td>\n",
              "      <td>-12,13983536</td>\n",
              "      <td>-77,02355957</td>\n",
              "      <td>2010-11-16 17:29:00</td>\n",
              "      <td>-12,05537033</td>\n",
              "      <td>-77,0413208</td>\n",
              "      <td>drop off</td>\n",
              "      <td>-12,10825481</td>\n",
              "      <td>-77,0272739</td>\n",
              "      <td>2010-11-16 17:02:00</td>\n",
              "      <td>iPhone</td>\n",
              "      <td>5.0</td>\n",
              "      <td>5.0</td>\n",
              "    </tr>\n",
              "    <tr>\n",
              "      <th>1</th>\n",
              "      <td>dd2af4715d0dc16eded53afc0e243577</td>\n",
              "      <td>a553c46e3a22fb9c326aeb3d72b3334e</td>\n",
              "      <td>NaN</td>\n",
              "      <td>NaN</td>\n",
              "      <td>executive</td>\n",
              "      <td>asap</td>\n",
              "      <td>2010-06-01 00:34:00</td>\n",
              "      <td>-12,13874817</td>\n",
              "      <td>-76,99536133</td>\n",
              "      <td>2010-06-01 00:37:00</td>\n",
              "      <td>-12,12465668</td>\n",
              "      <td>-77,02886963</td>\n",
              "      <td>not found</td>\n",
              "      <td>NaN</td>\n",
              "      <td>NaN</td>\n",
              "      <td>NaT</td>\n",
              "      <td>iPhone</td>\n",
              "      <td>NaN</td>\n",
              "      <td>NaN</td>\n",
              "    </tr>\n",
              "    <tr>\n",
              "      <th>2</th>\n",
              "      <td>dd91e131888064bf7df3ce08f3d4b4ad</td>\n",
              "      <td>a553c46e3a22fb9c326aeb3d72b3334e</td>\n",
              "      <td>NaN</td>\n",
              "      <td>NaN</td>\n",
              "      <td>executive</td>\n",
              "      <td>asap</td>\n",
              "      <td>2010-05-31 05:01:00</td>\n",
              "      <td>-12,12453079</td>\n",
              "      <td>-77,02780151</td>\n",
              "      <td>2010-05-31 05:04:00</td>\n",
              "      <td>-12,13883209</td>\n",
              "      <td>-76,99530029</td>\n",
              "      <td>not found</td>\n",
              "      <td>NaN</td>\n",
              "      <td>NaN</td>\n",
              "      <td>NaT</td>\n",
              "      <td>iPhone</td>\n",
              "      <td>NaN</td>\n",
              "      <td>NaN</td>\n",
              "    </tr>\n",
              "    <tr>\n",
              "      <th>3</th>\n",
              "      <td>dd2af4715d0dc16eded53afc0e2466d0</td>\n",
              "      <td>a553c46e3a22fb9c326aeb3d72b3334e</td>\n",
              "      <td>NaN</td>\n",
              "      <td>NaN</td>\n",
              "      <td>executive</td>\n",
              "      <td>asap</td>\n",
              "      <td>2010-06-01 00:29:00</td>\n",
              "      <td>-12,13885117</td>\n",
              "      <td>-76,99530029</td>\n",
              "      <td>2010-06-01 00:32:00</td>\n",
              "      <td>-12,12458801</td>\n",
              "      <td>-77,02896118</td>\n",
              "      <td>not found</td>\n",
              "      <td>NaN</td>\n",
              "      <td>NaN</td>\n",
              "      <td>NaT</td>\n",
              "      <td>iPhone</td>\n",
              "      <td>NaN</td>\n",
              "      <td>NaN</td>\n",
              "    </tr>\n",
              "    <tr>\n",
              "      <th>4</th>\n",
              "      <td>85b7eabcf5d84e42dc7629b7d27781af</td>\n",
              "      <td>56772d544fdfa589a020a1ff894a86f7</td>\n",
              "      <td>d665fb9f75ef5d9cd0fd89479380ba78</td>\n",
              "      <td>0accdd3aa5a322f4129fa20b53278c69</td>\n",
              "      <td>executive</td>\n",
              "      <td>reserved</td>\n",
              "      <td>2010-09-11 23:55:00</td>\n",
              "      <td>-12,08995438</td>\n",
              "      <td>-76,92626953</td>\n",
              "      <td>2010-09-12 01:07:00</td>\n",
              "      <td>-12,02223206</td>\n",
              "      <td>-77,10638428</td>\n",
              "      <td>drop off</td>\n",
              "      <td>-12,08311558</td>\n",
              "      <td>-76,9277072</td>\n",
              "      <td>2010-09-11 23:50:00</td>\n",
              "      <td>iPhone</td>\n",
              "      <td>4.0</td>\n",
              "      <td>5.0</td>\n",
              "    </tr>\n",
              "    <tr>\n",
              "      <th>5</th>\n",
              "      <td>2254715f0f569e3173ec61f16cbb8341</td>\n",
              "      <td>56772d544fdfa589a020a1ff894a86f7</td>\n",
              "      <td>baacf396f773709519bbde35a5eab861</td>\n",
              "      <td>baacf396f773709519bbde35a585d91b</td>\n",
              "      <td>executive</td>\n",
              "      <td>reserved</td>\n",
              "      <td>2010-08-10 13:00:00</td>\n",
              "      <td>-12,02241898</td>\n",
              "      <td>-77,10650635</td>\n",
              "      <td>2010-08-10 14:26:00</td>\n",
              "      <td>-12,08980179</td>\n",
              "      <td>-76,92608643</td>\n",
              "      <td>drop off</td>\n",
              "      <td>-12,01706754</td>\n",
              "      <td>-77,05986526</td>\n",
              "      <td>2010-08-10 12:53:00</td>\n",
              "      <td>iPhone</td>\n",
              "      <td>NaN</td>\n",
              "      <td>4.0</td>\n",
              "    </tr>\n",
              "    <tr>\n",
              "      <th>6</th>\n",
              "      <td>12432d83b49393bf25164673212b8295</td>\n",
              "      <td>56772d544fdfa589a020a1ff894a86f7</td>\n",
              "      <td>e1332f68e81526e498e4d845233a6d7d</td>\n",
              "      <td>e1332f68e81526e498e4d845235baf80</td>\n",
              "      <td>executive</td>\n",
              "      <td>reserved</td>\n",
              "      <td>2010-08-08 12:10:00</td>\n",
              "      <td>-12,08995819</td>\n",
              "      <td>-76,9262085</td>\n",
              "      <td>2010-08-08 12:48:00</td>\n",
              "      <td>-12,02152252</td>\n",
              "      <td>-77,10623169</td>\n",
              "      <td>drop off</td>\n",
              "      <td>-12,08509125</td>\n",
              "      <td>-76,96944424</td>\n",
              "      <td>2010-08-08 12:01:00</td>\n",
              "      <td>iPhone</td>\n",
              "      <td>5.0</td>\n",
              "      <td>5.0</td>\n",
              "    </tr>\n",
              "    <tr>\n",
              "      <th>7</th>\n",
              "      <td>2e51db3a8a77aa594aa686ff19fe6036</td>\n",
              "      <td>56772d544fdfa589a020a1ff894a86f7</td>\n",
              "      <td>d665fb9f75ef5d9cd0fd89479380ba78</td>\n",
              "      <td>0accdd3aa5a322f4129fa20b53278c69</td>\n",
              "      <td>executive</td>\n",
              "      <td>asap</td>\n",
              "      <td>2010-05-16 03:58:00</td>\n",
              "      <td>-12,11347198</td>\n",
              "      <td>-77,04385376</td>\n",
              "      <td>2010-05-16 04:40:00</td>\n",
              "      <td>-12,09108734</td>\n",
              "      <td>-76,92266846</td>\n",
              "      <td>drop off</td>\n",
              "      <td>-12,10828994</td>\n",
              "      <td>-77,03530221</td>\n",
              "      <td>2010-05-16 04:06:00</td>\n",
              "      <td>iPhone</td>\n",
              "      <td>5.0</td>\n",
              "      <td>5.0</td>\n",
              "    </tr>\n",
              "    <tr>\n",
              "      <th>8</th>\n",
              "      <td>0234eb5f7e99d581c72052f0a868289c</td>\n",
              "      <td>0234eb5f7e99d581c72052f0a869293a</td>\n",
              "      <td>d04f1a596fe4a582f48e6eb2f9e8f617</td>\n",
              "      <td>d04f1a596fe4a582f48e6eb2f9e8cceb</td>\n",
              "      <td>executive</td>\n",
              "      <td>asap</td>\n",
              "      <td>2010-07-09 05:56:00</td>\n",
              "      <td>-12,11068311</td>\n",
              "      <td>-77,00212106</td>\n",
              "      <td>2010-07-09 06:37:00</td>\n",
              "      <td>-12,07299558</td>\n",
              "      <td>-77,09785346</td>\n",
              "      <td>drop off</td>\n",
              "      <td>-12,12584246</td>\n",
              "      <td>-77,03298835</td>\n",
              "      <td>2010-07-09 06:13:00</td>\n",
              "      <td>Android</td>\n",
              "      <td>0.0</td>\n",
              "      <td>4.0</td>\n",
              "    </tr>\n",
              "    <tr>\n",
              "      <th>9</th>\n",
              "      <td>9448070ece760ea5386e5d4822121a6c</td>\n",
              "      <td>dd23cf0ef33ae44e0c0b4c756e1fe4e8</td>\n",
              "      <td>406921adcca37705ef527b4246c0cfea</td>\n",
              "      <td>406921adcca37705ef527b4246c10d2c</td>\n",
              "      <td>executive</td>\n",
              "      <td>asap</td>\n",
              "      <td>2010-11-22 23:42:00</td>\n",
              "      <td>-12,08969627</td>\n",
              "      <td>-77,03574926</td>\n",
              "      <td>2010-11-23 00:53:00</td>\n",
              "      <td>-12,03449872</td>\n",
              "      <td>-77,03020982</td>\n",
              "      <td>drop off</td>\n",
              "      <td>-12,0898203</td>\n",
              "      <td>-77,0358663</td>\n",
              "      <td>2010-11-23 00:05:00</td>\n",
              "      <td>Android</td>\n",
              "      <td>5.0</td>\n",
              "      <td>5.0</td>\n",
              "    </tr>\n",
              "  </tbody>\n",
              "</table>\n",
              "</div>\n",
              "      <button class=\"colab-df-convert\" onclick=\"convertToInteractive('df-e97663bc-c2b2-4c57-9c31-548a22e2618f')\"\n",
              "              title=\"Convert this dataframe to an interactive table.\"\n",
              "              style=\"display:none;\">\n",
              "        \n",
              "  <svg xmlns=\"http://www.w3.org/2000/svg\" height=\"24px\"viewBox=\"0 0 24 24\"\n",
              "       width=\"24px\">\n",
              "    <path d=\"M0 0h24v24H0V0z\" fill=\"none\"/>\n",
              "    <path d=\"M18.56 5.44l.94 2.06.94-2.06 2.06-.94-2.06-.94-.94-2.06-.94 2.06-2.06.94zm-11 1L8.5 8.5l.94-2.06 2.06-.94-2.06-.94L8.5 2.5l-.94 2.06-2.06.94zm10 10l.94 2.06.94-2.06 2.06-.94-2.06-.94-.94-2.06-.94 2.06-2.06.94z\"/><path d=\"M17.41 7.96l-1.37-1.37c-.4-.4-.92-.59-1.43-.59-.52 0-1.04.2-1.43.59L10.3 9.45l-7.72 7.72c-.78.78-.78 2.05 0 2.83L4 21.41c.39.39.9.59 1.41.59.51 0 1.02-.2 1.41-.59l7.78-7.78 2.81-2.81c.8-.78.8-2.07 0-2.86zM5.41 20L4 18.59l7.72-7.72 1.47 1.35L5.41 20z\"/>\n",
              "  </svg>\n",
              "      </button>\n",
              "      \n",
              "  <style>\n",
              "    .colab-df-container {\n",
              "      display:flex;\n",
              "      flex-wrap:wrap;\n",
              "      gap: 12px;\n",
              "    }\n",
              "\n",
              "    .colab-df-convert {\n",
              "      background-color: #E8F0FE;\n",
              "      border: none;\n",
              "      border-radius: 50%;\n",
              "      cursor: pointer;\n",
              "      display: none;\n",
              "      fill: #1967D2;\n",
              "      height: 32px;\n",
              "      padding: 0 0 0 0;\n",
              "      width: 32px;\n",
              "    }\n",
              "\n",
              "    .colab-df-convert:hover {\n",
              "      background-color: #E2EBFA;\n",
              "      box-shadow: 0px 1px 2px rgba(60, 64, 67, 0.3), 0px 1px 3px 1px rgba(60, 64, 67, 0.15);\n",
              "      fill: #174EA6;\n",
              "    }\n",
              "\n",
              "    [theme=dark] .colab-df-convert {\n",
              "      background-color: #3B4455;\n",
              "      fill: #D2E3FC;\n",
              "    }\n",
              "\n",
              "    [theme=dark] .colab-df-convert:hover {\n",
              "      background-color: #434B5C;\n",
              "      box-shadow: 0px 1px 3px 1px rgba(0, 0, 0, 0.15);\n",
              "      filter: drop-shadow(0px 1px 2px rgba(0, 0, 0, 0.3));\n",
              "      fill: #FFFFFF;\n",
              "    }\n",
              "  </style>\n",
              "\n",
              "      <script>\n",
              "        const buttonEl =\n",
              "          document.querySelector('#df-e97663bc-c2b2-4c57-9c31-548a22e2618f button.colab-df-convert');\n",
              "        buttonEl.style.display =\n",
              "          google.colab.kernel.accessAllowed ? 'block' : 'none';\n",
              "\n",
              "        async function convertToInteractive(key) {\n",
              "          const element = document.querySelector('#df-e97663bc-c2b2-4c57-9c31-548a22e2618f');\n",
              "          const dataTable =\n",
              "            await google.colab.kernel.invokeFunction('convertToInteractive',\n",
              "                                                     [key], {});\n",
              "          if (!dataTable) return;\n",
              "\n",
              "          const docLinkHtml = 'Like what you see? Visit the ' +\n",
              "            '<a target=\"_blank\" href=https://colab.research.google.com/notebooks/data_table.ipynb>data table notebook</a>'\n",
              "            + ' to learn more about interactive tables.';\n",
              "          element.innerHTML = '';\n",
              "          dataTable['output_type'] = 'display_data';\n",
              "          await google.colab.output.renderOutput(dataTable, element);\n",
              "          const docLink = document.createElement('div');\n",
              "          docLink.innerHTML = docLinkHtml;\n",
              "          element.appendChild(docLink);\n",
              "        }\n",
              "      </script>\n",
              "    </div>\n",
              "  </div>\n",
              "  "
            ]
          },
          "metadata": {},
          "execution_count": 2
        }
      ]
    },
    {
      "cell_type": "markdown",
      "source": [
        "# 1. Большинство заказов в такси делают с андроида"
      ],
      "metadata": {
        "id": "nvHJZDjruek0"
      }
    },
    {
      "cell_type": "code",
      "source": [
        "taxi.sample.source.value_counts()"
      ],
      "metadata": {
        "colab": {
          "base_uri": "https://localhost:8080/"
        },
        "id": "VEAKNOrFuwFe",
        "outputId": "1385c4f3-21f3-4595-dee0-aebbac29c4c6"
      },
      "execution_count": 5,
      "outputs": [
        {
          "output_type": "execute_result",
          "data": {
            "text/plain": [
              "iPhone     2440\n",
              "web        1894\n",
              "Android    1244\n",
              "iPad        142\n",
              "Wap          34\n",
              "Name: source, dtype: int64"
            ]
          },
          "metadata": {},
          "execution_count": 5
        }
      ]
    },
    {
      "cell_type": "code",
      "source": [
        "(taxi.source.value_counts() * 100 / taxi.shape[0]).round(2)"
      ],
      "metadata": {
        "colab": {
          "base_uri": "https://localhost:8080/"
        },
        "id": "bs17BCsi1F0R",
        "outputId": "bedad8fe-1955-4db9-d0e4-e03ab4dbff5a"
      },
      "execution_count": 4,
      "outputs": [
        {
          "output_type": "execute_result",
          "data": {
            "text/plain": [
              "iPhone     42.15\n",
              "web        33.02\n",
              "Android    21.24\n",
              "iPad        2.47\n",
              "Wap         0.59\n",
              "Name: source, dtype: float64"
            ]
          },
          "metadata": {},
          "execution_count": 4
        }
      ]
    },
    {
      "cell_type": "markdown",
      "source": [
        "# 2. Большинство отказов заказа делают пользователи с айфоном\n"
      ],
      "metadata": {
        "id": "Y6IMtP5Cul1f"
      }
    },
    {
      "cell_type": "code",
      "source": [
        "taxi_selection = taxi.groupby('source', as_index=False).apply(lambda x: x.sample(1000) if x.shape[0] >= 1000 else x.sample())"
      ],
      "metadata": {
        "id": "2M_SJ3Wqiz7l"
      },
      "execution_count": 24,
      "outputs": []
    },
    {
      "cell_type": "code",
      "source": [
        "taxi_selection.query('end_state == \"rider cancel\"').groupby('source', as_index=False).agg({'end_state':'count'}).sort_values('end_state', ascending=False)"
      ],
      "metadata": {
        "colab": {
          "base_uri": "https://localhost:8080/",
          "height": 143
        },
        "id": "J1iCrVhUpYNu",
        "outputId": "62a4470b-d1c6-4e1a-8b1c-cb799cc3dfd2"
      },
      "execution_count": 25,
      "outputs": [
        {
          "output_type": "execute_result",
          "data": {
            "text/plain": [
              "    source  end_state\n",
              "0  Android        215\n",
              "2      web        164\n",
              "1   iPhone        146"
            ],
            "text/html": [
              "\n",
              "  <div id=\"df-6945506b-6192-4aa4-8828-c3e4d536b50e\">\n",
              "    <div class=\"colab-df-container\">\n",
              "      <div>\n",
              "<style scoped>\n",
              "    .dataframe tbody tr th:only-of-type {\n",
              "        vertical-align: middle;\n",
              "    }\n",
              "\n",
              "    .dataframe tbody tr th {\n",
              "        vertical-align: top;\n",
              "    }\n",
              "\n",
              "    .dataframe thead th {\n",
              "        text-align: right;\n",
              "    }\n",
              "</style>\n",
              "<table border=\"1\" class=\"dataframe\">\n",
              "  <thead>\n",
              "    <tr style=\"text-align: right;\">\n",
              "      <th></th>\n",
              "      <th>source</th>\n",
              "      <th>end_state</th>\n",
              "    </tr>\n",
              "  </thead>\n",
              "  <tbody>\n",
              "    <tr>\n",
              "      <th>0</th>\n",
              "      <td>Android</td>\n",
              "      <td>215</td>\n",
              "    </tr>\n",
              "    <tr>\n",
              "      <th>2</th>\n",
              "      <td>web</td>\n",
              "      <td>164</td>\n",
              "    </tr>\n",
              "    <tr>\n",
              "      <th>1</th>\n",
              "      <td>iPhone</td>\n",
              "      <td>146</td>\n",
              "    </tr>\n",
              "  </tbody>\n",
              "</table>\n",
              "</div>\n",
              "      <button class=\"colab-df-convert\" onclick=\"convertToInteractive('df-6945506b-6192-4aa4-8828-c3e4d536b50e')\"\n",
              "              title=\"Convert this dataframe to an interactive table.\"\n",
              "              style=\"display:none;\">\n",
              "        \n",
              "  <svg xmlns=\"http://www.w3.org/2000/svg\" height=\"24px\"viewBox=\"0 0 24 24\"\n",
              "       width=\"24px\">\n",
              "    <path d=\"M0 0h24v24H0V0z\" fill=\"none\"/>\n",
              "    <path d=\"M18.56 5.44l.94 2.06.94-2.06 2.06-.94-2.06-.94-.94-2.06-.94 2.06-2.06.94zm-11 1L8.5 8.5l.94-2.06 2.06-.94-2.06-.94L8.5 2.5l-.94 2.06-2.06.94zm10 10l.94 2.06.94-2.06 2.06-.94-2.06-.94-.94-2.06-.94 2.06-2.06.94z\"/><path d=\"M17.41 7.96l-1.37-1.37c-.4-.4-.92-.59-1.43-.59-.52 0-1.04.2-1.43.59L10.3 9.45l-7.72 7.72c-.78.78-.78 2.05 0 2.83L4 21.41c.39.39.9.59 1.41.59.51 0 1.02-.2 1.41-.59l7.78-7.78 2.81-2.81c.8-.78.8-2.07 0-2.86zM5.41 20L4 18.59l7.72-7.72 1.47 1.35L5.41 20z\"/>\n",
              "  </svg>\n",
              "      </button>\n",
              "      \n",
              "  <style>\n",
              "    .colab-df-container {\n",
              "      display:flex;\n",
              "      flex-wrap:wrap;\n",
              "      gap: 12px;\n",
              "    }\n",
              "\n",
              "    .colab-df-convert {\n",
              "      background-color: #E8F0FE;\n",
              "      border: none;\n",
              "      border-radius: 50%;\n",
              "      cursor: pointer;\n",
              "      display: none;\n",
              "      fill: #1967D2;\n",
              "      height: 32px;\n",
              "      padding: 0 0 0 0;\n",
              "      width: 32px;\n",
              "    }\n",
              "\n",
              "    .colab-df-convert:hover {\n",
              "      background-color: #E2EBFA;\n",
              "      box-shadow: 0px 1px 2px rgba(60, 64, 67, 0.3), 0px 1px 3px 1px rgba(60, 64, 67, 0.15);\n",
              "      fill: #174EA6;\n",
              "    }\n",
              "\n",
              "    [theme=dark] .colab-df-convert {\n",
              "      background-color: #3B4455;\n",
              "      fill: #D2E3FC;\n",
              "    }\n",
              "\n",
              "    [theme=dark] .colab-df-convert:hover {\n",
              "      background-color: #434B5C;\n",
              "      box-shadow: 0px 1px 3px 1px rgba(0, 0, 0, 0.15);\n",
              "      filter: drop-shadow(0px 1px 2px rgba(0, 0, 0, 0.3));\n",
              "      fill: #FFFFFF;\n",
              "    }\n",
              "  </style>\n",
              "\n",
              "      <script>\n",
              "        const buttonEl =\n",
              "          document.querySelector('#df-6945506b-6192-4aa4-8828-c3e4d536b50e button.colab-df-convert');\n",
              "        buttonEl.style.display =\n",
              "          google.colab.kernel.accessAllowed ? 'block' : 'none';\n",
              "\n",
              "        async function convertToInteractive(key) {\n",
              "          const element = document.querySelector('#df-6945506b-6192-4aa4-8828-c3e4d536b50e');\n",
              "          const dataTable =\n",
              "            await google.colab.kernel.invokeFunction('convertToInteractive',\n",
              "                                                     [key], {});\n",
              "          if (!dataTable) return;\n",
              "\n",
              "          const docLinkHtml = 'Like what you see? Visit the ' +\n",
              "            '<a target=\"_blank\" href=https://colab.research.google.com/notebooks/data_table.ipynb>data table notebook</a>'\n",
              "            + ' to learn more about interactive tables.';\n",
              "          element.innerHTML = '';\n",
              "          dataTable['output_type'] = 'display_data';\n",
              "          await google.colab.output.renderOutput(dataTable, element);\n",
              "          const docLink = document.createElement('div');\n",
              "          docLink.innerHTML = docLinkHtml;\n",
              "          element.appendChild(docLink);\n",
              "        }\n",
              "      </script>\n",
              "    </div>\n",
              "  </div>\n",
              "  "
            ]
          },
          "metadata": {},
          "execution_count": 25
        }
      ]
    },
    {
      "cell_type": "code",
      "source": [
        "taxi_selection.query('end_state == \"rider cancel\" and source == \"iPhone\"').shape[0] * 100 / taxi_selection.query('end_state == \"rider cancel\"').shape[0]"
      ],
      "metadata": {
        "colab": {
          "base_uri": "https://localhost:8080/"
        },
        "id": "B-axoljJ1Wij",
        "outputId": "0e05f8fe-fa7e-4d08-f5f9-3f6abfda821b"
      },
      "execution_count": 26,
      "outputs": [
        {
          "output_type": "execute_result",
          "data": {
            "text/plain": [
              "27.80952380952381"
            ]
          },
          "metadata": {},
          "execution_count": 26
        }
      ]
    },
    {
      "cell_type": "markdown",
      "source": [
        "# 3. Большинство отказов(со стороны водителя) приходится на клиентов с сайта"
      ],
      "metadata": {
        "id": "RKt3R5V_0Ixp"
      }
    },
    {
      "cell_type": "code",
      "source": [
        "taxi.query('end_state == \"driver cancel\"').groupby('source', as_index=False).agg({'end_state':'count'}).sort_values('end_state', ascending=False)"
      ],
      "metadata": {
        "colab": {
          "base_uri": "https://localhost:8080/",
          "height": 206
        },
        "id": "DnJLG_tiypNp",
        "outputId": "808d16a0-7a36-4934-9b62-74ae44a9fd4b"
      },
      "execution_count": null,
      "outputs": [
        {
          "output_type": "execute_result",
          "data": {
            "text/plain": [
              "    source  end_state\n",
              "4      web        104\n",
              "3   iPhone        101\n",
              "0  Android         75\n",
              "2     iPad          7\n",
              "1      Wap          1"
            ],
            "text/html": [
              "\n",
              "  <div id=\"df-705b70cc-9e6b-4537-a956-a082b7ea04af\">\n",
              "    <div class=\"colab-df-container\">\n",
              "      <div>\n",
              "<style scoped>\n",
              "    .dataframe tbody tr th:only-of-type {\n",
              "        vertical-align: middle;\n",
              "    }\n",
              "\n",
              "    .dataframe tbody tr th {\n",
              "        vertical-align: top;\n",
              "    }\n",
              "\n",
              "    .dataframe thead th {\n",
              "        text-align: right;\n",
              "    }\n",
              "</style>\n",
              "<table border=\"1\" class=\"dataframe\">\n",
              "  <thead>\n",
              "    <tr style=\"text-align: right;\">\n",
              "      <th></th>\n",
              "      <th>source</th>\n",
              "      <th>end_state</th>\n",
              "    </tr>\n",
              "  </thead>\n",
              "  <tbody>\n",
              "    <tr>\n",
              "      <th>4</th>\n",
              "      <td>web</td>\n",
              "      <td>104</td>\n",
              "    </tr>\n",
              "    <tr>\n",
              "      <th>3</th>\n",
              "      <td>iPhone</td>\n",
              "      <td>101</td>\n",
              "    </tr>\n",
              "    <tr>\n",
              "      <th>0</th>\n",
              "      <td>Android</td>\n",
              "      <td>75</td>\n",
              "    </tr>\n",
              "    <tr>\n",
              "      <th>2</th>\n",
              "      <td>iPad</td>\n",
              "      <td>7</td>\n",
              "    </tr>\n",
              "    <tr>\n",
              "      <th>1</th>\n",
              "      <td>Wap</td>\n",
              "      <td>1</td>\n",
              "    </tr>\n",
              "  </tbody>\n",
              "</table>\n",
              "</div>\n",
              "      <button class=\"colab-df-convert\" onclick=\"convertToInteractive('df-705b70cc-9e6b-4537-a956-a082b7ea04af')\"\n",
              "              title=\"Convert this dataframe to an interactive table.\"\n",
              "              style=\"display:none;\">\n",
              "        \n",
              "  <svg xmlns=\"http://www.w3.org/2000/svg\" height=\"24px\"viewBox=\"0 0 24 24\"\n",
              "       width=\"24px\">\n",
              "    <path d=\"M0 0h24v24H0V0z\" fill=\"none\"/>\n",
              "    <path d=\"M18.56 5.44l.94 2.06.94-2.06 2.06-.94-2.06-.94-.94-2.06-.94 2.06-2.06.94zm-11 1L8.5 8.5l.94-2.06 2.06-.94-2.06-.94L8.5 2.5l-.94 2.06-2.06.94zm10 10l.94 2.06.94-2.06 2.06-.94-2.06-.94-.94-2.06-.94 2.06-2.06.94z\"/><path d=\"M17.41 7.96l-1.37-1.37c-.4-.4-.92-.59-1.43-.59-.52 0-1.04.2-1.43.59L10.3 9.45l-7.72 7.72c-.78.78-.78 2.05 0 2.83L4 21.41c.39.39.9.59 1.41.59.51 0 1.02-.2 1.41-.59l7.78-7.78 2.81-2.81c.8-.78.8-2.07 0-2.86zM5.41 20L4 18.59l7.72-7.72 1.47 1.35L5.41 20z\"/>\n",
              "  </svg>\n",
              "      </button>\n",
              "      \n",
              "  <style>\n",
              "    .colab-df-container {\n",
              "      display:flex;\n",
              "      flex-wrap:wrap;\n",
              "      gap: 12px;\n",
              "    }\n",
              "\n",
              "    .colab-df-convert {\n",
              "      background-color: #E8F0FE;\n",
              "      border: none;\n",
              "      border-radius: 50%;\n",
              "      cursor: pointer;\n",
              "      display: none;\n",
              "      fill: #1967D2;\n",
              "      height: 32px;\n",
              "      padding: 0 0 0 0;\n",
              "      width: 32px;\n",
              "    }\n",
              "\n",
              "    .colab-df-convert:hover {\n",
              "      background-color: #E2EBFA;\n",
              "      box-shadow: 0px 1px 2px rgba(60, 64, 67, 0.3), 0px 1px 3px 1px rgba(60, 64, 67, 0.15);\n",
              "      fill: #174EA6;\n",
              "    }\n",
              "\n",
              "    [theme=dark] .colab-df-convert {\n",
              "      background-color: #3B4455;\n",
              "      fill: #D2E3FC;\n",
              "    }\n",
              "\n",
              "    [theme=dark] .colab-df-convert:hover {\n",
              "      background-color: #434B5C;\n",
              "      box-shadow: 0px 1px 3px 1px rgba(0, 0, 0, 0.15);\n",
              "      filter: drop-shadow(0px 1px 2px rgba(0, 0, 0, 0.3));\n",
              "      fill: #FFFFFF;\n",
              "    }\n",
              "  </style>\n",
              "\n",
              "      <script>\n",
              "        const buttonEl =\n",
              "          document.querySelector('#df-705b70cc-9e6b-4537-a956-a082b7ea04af button.colab-df-convert');\n",
              "        buttonEl.style.display =\n",
              "          google.colab.kernel.accessAllowed ? 'block' : 'none';\n",
              "\n",
              "        async function convertToInteractive(key) {\n",
              "          const element = document.querySelector('#df-705b70cc-9e6b-4537-a956-a082b7ea04af');\n",
              "          const dataTable =\n",
              "            await google.colab.kernel.invokeFunction('convertToInteractive',\n",
              "                                                     [key], {});\n",
              "          if (!dataTable) return;\n",
              "\n",
              "          const docLinkHtml = 'Like what you see? Visit the ' +\n",
              "            '<a target=\"_blank\" href=https://colab.research.google.com/notebooks/data_table.ipynb>data table notebook</a>'\n",
              "            + ' to learn more about interactive tables.';\n",
              "          element.innerHTML = '';\n",
              "          dataTable['output_type'] = 'display_data';\n",
              "          await google.colab.output.renderOutput(dataTable, element);\n",
              "          const docLink = document.createElement('div');\n",
              "          docLink.innerHTML = docLinkHtml;\n",
              "          element.appendChild(docLink);\n",
              "        }\n",
              "      </script>\n",
              "    </div>\n",
              "  </div>\n",
              "  "
            ]
          },
          "metadata": {},
          "execution_count": 8
        }
      ]
    },
    {
      "cell_type": "code",
      "source": [
        "taxi.query('end_state == \"driver cancel\" and source == \"web\"').shape[0] * 100 / taxi.query('end_state == \"driver cancel\"').shape[0]"
      ],
      "metadata": {
        "colab": {
          "base_uri": "https://localhost:8080/"
        },
        "id": "s-vnLU7v3AVf",
        "outputId": "8a65635d-db46-4c83-fbfa-fc6a7bc08a2c"
      },
      "execution_count": null,
      "outputs": [
        {
          "output_type": "execute_result",
          "data": {
            "text/plain": [
              "35.61643835616438"
            ]
          },
          "metadata": {},
          "execution_count": 9
        }
      ]
    },
    {
      "cell_type": "markdown",
      "source": [
        "# 4. Оценка поездки у владльцев айфона выше, чем у андроиа"
      ],
      "metadata": {
        "id": "SPRxLPTA4bns"
      }
    },
    {
      "cell_type": "code",
      "source": [
        "taxi_2 = pd.DataFrame(taxi.query('source == \"iPhone\" or source == \"Android\"').groupby('rider_score').agg({'rider_score':'count'}))\n",
        "taxi_2 = taxi_2.rename(columns={'rider_score':'count_iPhone'})\n"
      ],
      "metadata": {
        "id": "D3AeAkm68OOF"
      },
      "execution_count": 27,
      "outputs": []
    },
    {
      "cell_type": "code",
      "source": [
        "df_2 = pd.DataFrame(taxi.query('source == \"Android\"').groupby('rider_score').agg({'rider_score':'count'}))\n",
        "df_2 = df_2.rename(columns={'rider_score':'count_Android'})"
      ],
      "metadata": {
        "id": "Wvz9372r-5OH"
      },
      "execution_count": 28,
      "outputs": []
    },
    {
      "cell_type": "code",
      "source": [
        "taxi_2 = taxi_2.merge(df_2, how='inner', left_index=True, right_index=True)"
      ],
      "metadata": {
        "id": "jQe8n9czLbkR"
      },
      "execution_count": 29,
      "outputs": []
    },
    {
      "cell_type": "code",
      "source": [
        "taxi.query('source == \"iPhone\"')['rider_score'].mean().round(2)\n",
        "# Среднее значение всех поездок на 'iPhone'"
      ],
      "metadata": {
        "colab": {
          "base_uri": "https://localhost:8080/"
        },
        "id": "YyTAZQFA-jjV",
        "outputId": "1cc0047f-3f81-4140-a21c-60c6a40f4ede"
      },
      "execution_count": 30,
      "outputs": [
        {
          "output_type": "execute_result",
          "data": {
            "text/plain": [
              "4.78"
            ]
          },
          "metadata": {},
          "execution_count": 30
        }
      ]
    },
    {
      "cell_type": "code",
      "source": [
        "taxi.query('source == \"Android\"')['rider_score'].mean().round(2)\n",
        "# Среднее значение всех поездок на 'Android'"
      ],
      "metadata": {
        "colab": {
          "base_uri": "https://localhost:8080/"
        },
        "id": "9XRk25dP-9U0",
        "outputId": "1b020ee7-b01c-4762-f1f9-3be0d1b9753a"
      },
      "execution_count": 31,
      "outputs": [
        {
          "output_type": "execute_result",
          "data": {
            "text/plain": [
              "4.64"
            ]
          },
          "metadata": {},
          "execution_count": 31
        }
      ]
    },
    {
      "cell_type": "markdown",
      "source": [
        "# Граффики "
      ],
      "metadata": {
        "id": "70ZJIqmDO7T6"
      }
    },
    {
      "cell_type": "code",
      "source": [
        "taxi_2[['count_iPhone', 'count_Android']].plot()"
      ],
      "metadata": {
        "colab": {
          "base_uri": "https://localhost:8080/",
          "height": 297
        },
        "id": "0yq1FBNqL2xP",
        "outputId": "316b0237-b592-4c7e-8df5-663deccb7888"
      },
      "execution_count": null,
      "outputs": [
        {
          "output_type": "execute_result",
          "data": {
            "text/plain": [
              "<matplotlib.axes._subplots.AxesSubplot at 0x7f6d4a254b20>"
            ]
          },
          "metadata": {},
          "execution_count": 16
        },
        {
          "output_type": "display_data",
          "data": {
            "text/plain": [
              "<Figure size 432x288 with 1 Axes>"
            ],
            "image/png": "[encoded data removed]"
          },
          "metadata": {
            "needs_background": "light"
          }
        }
      ]
    },
    {
      "cell_type": "code",
      "source": [
        "sns.set_theme(style=\"darkgrid\")\n",
        "sns.countplot(taxi['source'], hue=taxi['end_state'])"
      ],
      "metadata": {
        "colab": {
          "base_uri": "https://localhost:8080/",
          "height": 357
        },
        "id": "Iw-ovwNznfXP",
        "outputId": "65435909-d681-4886-d7d2-87444c09df3a"
      },
      "execution_count": null,
      "outputs": [
        {
          "output_type": "stream",
          "name": "stderr",
          "text": [
            "/usr/local/lib/python3.8/dist-packages/seaborn/_decorators.py:36: FutureWarning: Pass the following variable as a keyword arg: x. From version 0.12, the only valid positional argument will be `data`, and passing other arguments without an explicit keyword will result in an error or misinterpretation.\n",
            "  warnings.warn(\n"
          ]
        },
        {
          "output_type": "execute_result",
          "data": {
            "text/plain": [
              "<matplotlib.axes._subplots.AxesSubplot at 0x7f6d4ab13280>"
            ]
          },
          "metadata": {},
          "execution_count": 17
        },
        {
          "output_type": "display_data",
          "data": {
            "text/plain": [
              "<Figure size 432x288 with 1 Axes>"
            ],
            "image/png": "[encoded data removed]"
          },
          "metadata": {}
        }
      ]
    }
  ]
}